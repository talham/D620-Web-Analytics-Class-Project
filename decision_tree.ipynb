{
 "cells": [
  {
   "cell_type": "code",
   "execution_count": 1,
   "metadata": {},
   "outputs": [],
   "source": [
    "import nltk\n",
    "import random\n",
    "import numpy as np\n",
    "from itertools import repeat\n",
    "from sklearn.model_selection import train_test_split\n",
    "from nltk.corpus import names\n",
    "from sklearn import tree "
   ]
  },
  {
   "cell_type": "code",
   "execution_count": 2,
   "metadata": {},
   "outputs": [],
   "source": [
    "#nltk.download('all')"
   ]
  },
  {
   "cell_type": "code",
   "execution_count": 3,
   "metadata": {},
   "outputs": [
    {
     "data": {
      "text/plain": [
       "[u'female.txt', u'male.txt']"
      ]
     },
     "execution_count": 3,
     "metadata": {},
     "output_type": "execute_result"
    }
   ],
   "source": [
    "# confirm male and female txt files exist\n",
    "names.fileids()"
   ]
  },
  {
   "cell_type": "code",
   "execution_count": 4,
   "metadata": {},
   "outputs": [
    {
     "data": {
      "text/plain": [
       "<WordListCorpusReader in u'C:\\\\Users\\\\talha\\\\AppData\\\\Roaming\\\\nltk_data\\\\corpora\\\\names'>"
      ]
     },
     "execution_count": 4,
     "metadata": {},
     "output_type": "execute_result"
    }
   ],
   "source": [
    "names"
   ]
  },
  {
   "cell_type": "code",
   "execution_count": 5,
   "metadata": {},
   "outputs": [],
   "source": [
    "# load male and female  name files from nltk.names; store in people list\n",
    "males = [n for n in names.words('male.txt')] \n",
    "females = [n for n in names.words('female.txt')] \n",
    "people = males + females\n",
    "\n",
    "# make gender list\n",
    "gender = list(repeat('male',len(males))) + \\\n",
    "list(repeat('female',len(females)))"
   ]
  },
  {
   "cell_type": "code",
   "execution_count": 27,
   "metadata": {},
   "outputs": [
    {
     "data": {
      "text/plain": [
       "[u'Aaron',\n",
       " u'Abbey',\n",
       " u'Abbie',\n",
       " u'Abbot',\n",
       " u'Abbott',\n",
       " u'Abby',\n",
       " u'Abdel',\n",
       " u'Abdul',\n",
       " u'Abdulkarim']"
      ]
     },
     "execution_count": 27,
     "metadata": {},
     "output_type": "execute_result"
    }
   ],
   "source": [
    "#sample of male names \n",
    "males[1:10]"
   ]
  },
  {
   "cell_type": "code",
   "execution_count": 28,
   "metadata": {},
   "outputs": [
    {
     "data": {
      "text/plain": [
       "[u'Abagail',\n",
       " u'Abbe',\n",
       " u'Abbey',\n",
       " u'Abbi',\n",
       " u'Abbie',\n",
       " u'Abby',\n",
       " u'Abigael',\n",
       " u'Abigail',\n",
       " u'Abigale']"
      ]
     },
     "execution_count": 28,
     "metadata": {},
     "output_type": "execute_result"
    }
   ],
   "source": [
    "#sampe of female names\n",
    "females[1:10]"
   ]
  },
  {
   "cell_type": "markdown",
   "metadata": {},
   "source": [
    "from above it seems that there are names that both, female and male i.e. they are gender neutral"
   ]
  },
  {
   "cell_type": "code",
   "execution_count": null,
   "metadata": {},
   "outputs": [],
   "source": [
    "neutral=[for name in ]"
   ]
  },
  {
   "cell_type": "code",
   "execution_count": 6,
   "metadata": {},
   "outputs": [
    {
     "data": {
      "text/plain": [
       "{'first': 's', 'last': 'k', 'last_two': 'ek'}"
      ]
     },
     "execution_count": 6,
     "metadata": {},
     "output_type": "execute_result"
    }
   ],
   "source": [
    "# extract features\n",
    "def gender_features(word):\n",
    "    features = {}\n",
    "    #features['first_last'] = word[0] + word[-1].lower()\n",
    "    #features['first_two'] = word[0:2]\n",
    "    features['last'] = word[-1].lower()\n",
    "    features['last_two'] = word[-2:].lower()\n",
    "    return(features)\n",
    "\n",
    "\n",
    "gender_features('Shrek')"
   ]
  },
  {
   "cell_type": "code",
   "execution_count": null,
   "metadata": {},
   "outputs": [],
   "source": []
  },
  {
   "cell_type": "code",
   "execution_count": 7,
   "metadata": {},
   "outputs": [],
   "source": [
    " #len(features)"
   ]
  },
  {
   "cell_type": "code",
   "execution_count": 8,
   "metadata": {},
   "outputs": [],
   "source": [
    "#featuresets = [(gender_features(n), gender) for (n, gender) in labeled_names]\n",
    "#train_set1, test_set1 = featuresets[500:], featuresets[:500]\n"
   ]
  },
  {
   "cell_type": "code",
   "execution_count": 9,
   "metadata": {},
   "outputs": [],
   "source": [
    "# split into test and train, with test file containing 1000 samples\n",
    "people_train, people_test, gender_train, gender_test =  \\\n",
    "train_test_split(people, gender, test_size=1000, random_state=4)\n",
    "\n",
    "# split test into two separate components of 500 each: test and devtest\n",
    "people_test, people_devtest, gender_test, gender_devtest = \\\n",
    "train_test_split(people_test, gender_test, test_size=500, random_state=4)\n",
    "\n",
    "# list of tuples, gender features, gender\n",
    "train_set = list(zip(map(gender_features, people_train),gender_train))\n",
    "devtest_set = list(zip(map(gender_features, people_devtest),gender_devtest))\n",
    "test_set = list(zip(map(gender_features, people_test),gender_test))\n",
    "\n",
    "\n",
    "# list of tuples, names, gender\n",
    "train_names = list(zip(people_train,gender_train))\n",
    "devtest_names = list(zip(people_devtest,gender_devtest))\n",
    "test_names = list(zip(people_test, gender_test))"
   ]
  },
  {
   "cell_type": "code",
   "execution_count": 10,
   "metadata": {},
   "outputs": [
    {
     "data": {
      "text/plain": [
       "0.782"
      ]
     },
     "execution_count": 10,
     "metadata": {},
     "output_type": "execute_result"
    }
   ],
   "source": [
    "\n",
    "classifier = nltk.DecisionTreeClassifier.train(train_set)\n",
    "nltk.classify.accuracy(classifier, test_set)\n",
    "\n"
   ]
  },
  {
   "cell_type": "code",
   "execution_count": 11,
   "metadata": {},
   "outputs": [
    {
     "name": "stdout",
     "output_type": "stream",
     "text": [
      "actual, guess, name: \n",
      "\n",
      "('male', 'female', u'Abbie')\n",
      "('male', 'female', u'Clayborne')\n",
      "('male', 'female', u'Leo')\n",
      "('female', 'male', u'Rhody')\n",
      "('female', 'male', u'Abbey')\n",
      "('male', 'female', u'Reese')\n",
      "('male', 'female', u'Randi')\n",
      "('male', 'female', u'Lucian')\n",
      "('male', 'female', u'Spud')\n",
      "('male', 'female', u'Aguste')\n",
      "('female', 'male', u'Hyacinthe')\n",
      "('male', 'female', u'Lucien')\n",
      "('male', 'female', u'Davide')\n",
      "('male', 'female', u'Damien')\n",
      "('female', 'male', u'Orelle')\n",
      "('male', 'female', u'Ephrem')\n",
      "('female', 'male', u'Stormy')\n",
      "('female', 'male', u'Marillin')\n",
      "('female', 'male', u'Sibby')\n",
      "('female', 'male', u'Haley')\n",
      "('male', 'female', u'Clarance')\n",
      "('male', 'female', u'Kennedy')\n",
      "('male', 'female', u'Gabriell')\n",
      "('male', 'female', u'Coleman')\n",
      "('female', 'male', u'Tiffany')\n",
      "('female', 'male', u'Kim')\n",
      "('male', 'female', u'Arel')\n",
      "('female', 'male', u'Lamb')\n",
      "('male', 'female', u'Morly')\n",
      "('male', 'female', u'Lane')\n",
      "('male', 'female', u'Casey')\n",
      "('male', 'female', u'Tremayne')\n",
      "('female', 'male', u'Rubi')\n",
      "('female', 'male', u'Jude')\n",
      "('female', 'male', u'Ruthy')\n",
      "('male', 'female', u'Michele')\n",
      "('male', 'female', u'Heath')\n",
      "('male', 'female', u'Darien')\n",
      "('female', 'male', u'Chrysler')\n",
      "('female', 'male', u'Cyb')\n",
      "('female', 'male', u'Marin')\n",
      "('female', 'male', u'Franky')\n",
      "('female', 'male', u'Honey')\n",
      "('female', 'male', u'Quentin')\n",
      "('male', 'female', u'Hewe')\n",
      "('male', 'female', u'Neale')\n",
      "('male', 'female', u'Gabriele')\n",
      "('male', 'female', u'Ken')\n",
      "('female', 'male', u'Jess')\n",
      "('male', 'female', u'Reza')\n",
      "('male', 'female', u'Donny')\n",
      "('female', 'male', u'Viviyan')\n",
      "('female', 'male', u'Con')\n",
      "('male', 'female', u'Kin')\n",
      "('female', 'male', u'Zorine')\n",
      "('male', 'female', u'Bud')\n",
      "('male', 'female', u'Shawn')\n",
      "('male', 'female', u'Graig')\n",
      "('male', 'female', u'Hymie')\n",
      "('male', 'female', u'Demetre')\n",
      "('male', 'female', u'Beau')\n",
      "('male', 'female', u'Dewitt')\n",
      "('male', 'female', u'Norm')\n",
      "('female', 'male', u'Suzan')\n",
      "('male', 'female', u'Giraud')\n",
      "('male', 'female', u'Ricki')\n",
      "('female', 'male', u'Flo')\n",
      "('female', 'male', u'Paula-Grace')\n",
      "('female', 'male', u'Fleur')\n",
      "('male', 'female', u'Samuele')\n",
      "('male', 'female', u'Hyatt')\n",
      "('male', 'female', u'Antoni')\n",
      "('male', 'female', u'George')\n",
      "('female', 'male', u'Brandice')\n",
      "('female', 'male', u'Claude')\n",
      "('male', 'female', u'Chrissy')\n",
      "('male', 'female', u'Corbin')\n",
      "('female', 'male', u'Mureil')\n",
      "('male', 'female', u'Ali')\n",
      "('male', 'female', u'Gordie')\n",
      "('female', 'male', u'Consuelo')\n",
      "('male', 'female', u'Hewett')\n",
      "('female', 'male', u'Elly')\n",
      "('male', 'female', u'Diego')\n",
      "('male', 'female', u'Giorgi')\n",
      "('male', 'female', u'Nat')\n",
      "('female', 'male', u'Van')\n",
      "('male', 'female', u'Enrique')\n",
      "('female', 'male', u'Hester')\n",
      "('male', 'female', u'Ahmet')\n",
      "('male', 'female', u'Archie')\n",
      "('female', 'male', u'Devin')\n",
      "('female', 'male', u'Sandye')\n",
      "('female', 'male', u'Sharity')\n",
      "('male', 'female', u'Allen')\n",
      "('female', 'male', u'Germain')\n",
      "('male', 'female', u'Jodie')\n",
      "('female', 'male', u'Tally')\n",
      "('male', 'female', u'Paten')\n",
      "('female', 'male', u'Rianon')\n",
      "('female', 'male', u'Odele')\n",
      "('female', 'male', u'Bidget')\n",
      "('male', 'female', u'Lynn')\n",
      "('male', 'female', u'Lucio')\n",
      "('male', 'female', u'Ernie')\n",
      "('female', 'male', u'Charlot')\n",
      "('female', 'male', u'Page')\n",
      "('male', 'female', u'Piggy')\n",
      "('male', 'female', u'Stearne')\n",
      "('male', 'female', u'Uri')\n",
      "('female', 'male', u'Liz')\n",
      "('male', 'female', u'Bill')\n",
      "('male', 'female', u'Sascha')\n",
      "('male', 'female', u'Loren')\n",
      "('female', 'male', u'Winnie')\n"
     ]
    }
   ],
   "source": [
    " # look at names that were mis-classified\n",
    "errors = []\n",
    "for (name, tag) in devtest_names:\n",
    "    #print(name)\n",
    "    guess = classifier.classify(gender_features(name))\n",
    "    if guess != tag:\n",
    "        errors.append( (tag, guess, name) )\n",
    "\n",
    "print('actual, guess, name: \\n')\n",
    "for x in errors:\n",
    "    print(x)"
   ]
  },
  {
   "cell_type": "code",
   "execution_count": 12,
   "metadata": {},
   "outputs": [
    {
     "data": {
      "text/plain": [
       "'female'"
      ]
     },
     "execution_count": 12,
     "metadata": {},
     "output_type": "execute_result"
    }
   ],
   "source": [
    "classifier.classify(gender_features('Neo'))"
   ]
  },
  {
   "cell_type": "code",
   "execution_count": 13,
   "metadata": {},
   "outputs": [],
   "source": [
    "# Changing the Gender(Target Variable) to either 1 or 0 for Classification.\n",
    "gender = [gen.replace('male', '1') for gen in gender]\n",
    "gender = [gen.replace('female', '0') for gen in gender]"
   ]
  },
  {
   "cell_type": "code",
   "execution_count": 14,
   "metadata": {},
   "outputs": [],
   "source": [
    "#gender"
   ]
  },
  {
   "cell_type": "code",
   "execution_count": 15,
   "metadata": {},
   "outputs": [],
   "source": [
    "from sklearn import tree\n",
    "import io"
   ]
  },
  {
   "cell_type": "code",
   "execution_count": 16,
   "metadata": {},
   "outputs": [],
   "source": [
    "#Splitting the dataset to test and train.\n",
    "X_train, X_test, Y_train, Y_test =  \\\n",
    "train_test_split(people, gender, test_size=0.2, random_state=38)"
   ]
  },
  {
   "cell_type": "code",
   "execution_count": 17,
   "metadata": {},
   "outputs": [],
   "source": [
    "#Transforming the X_train string, so it can used in the classifier\n",
    "from sklearn import preprocessing\n",
    "le = preprocessing.LabelEncoder()\n",
    "\n",
    "for i,_ in enumerate(X_train):\n",
    "        X_train[i] = le.fit_transform([i])"
   ]
  },
  {
   "cell_type": "code",
   "execution_count": 26,
   "metadata": {},
   "outputs": [
    {
     "data": {
      "text/plain": [
       "[array([0], dtype=int64),\n",
       " array([0], dtype=int64),\n",
       " array([0], dtype=int64),\n",
       " array([0], dtype=int64),\n",
       " array([0], dtype=int64),\n",
       " array([0], dtype=int64),\n",
       " array([0], dtype=int64),\n",
       " array([0], dtype=int64),\n",
       " array([0], dtype=int64)]"
      ]
     },
     "execution_count": 26,
     "metadata": {},
     "output_type": "execute_result"
    }
   ],
   "source": [
    "X_train[1:10]"
   ]
  },
  {
   "cell_type": "code",
   "execution_count": 18,
   "metadata": {},
   "outputs": [],
   "source": [
    "# Decision free Claissifier Fitting.\n",
    "dtree=tree.DecisionTreeClassifier()\n",
    "clf = dtree.fit(X_train,Y_train)"
   ]
  },
  {
   "cell_type": "code",
   "execution_count": 25,
   "metadata": {},
   "outputs": [
    {
     "ename": "NameError",
     "evalue": "name 'dot_data2' is not defined",
     "output_type": "error",
     "traceback": [
      "\u001b[1;31m\u001b[0m",
      "\u001b[1;31mNameError\u001b[0mTraceback (most recent call last)",
      "\u001b[1;32m<ipython-input-25-2380b0c15899>\u001b[0m in \u001b[0;36m<module>\u001b[1;34m()\u001b[0m\n\u001b[0;32m      5\u001b[0m \u001b[1;33m\u001b[0m\u001b[0m\n\u001b[0;32m      6\u001b[0m \u001b[1;31m#dot_data = io.StringIO()\u001b[0m\u001b[1;33m\u001b[0m\u001b[1;33m\u001b[0m\u001b[0m\n\u001b[1;32m----> 7\u001b[1;33m \u001b[0mtree\u001b[0m\u001b[1;33m.\u001b[0m\u001b[0mexport_graphviz\u001b[0m\u001b[1;33m(\u001b[0m\u001b[0mclf\u001b[0m\u001b[1;33m,\u001b[0m \u001b[0mout_file\u001b[0m\u001b[1;33m=\u001b[0m\u001b[0mdot_data2\u001b[0m\u001b[1;33m)\u001b[0m\u001b[1;33m\u001b[0m\u001b[0m\n\u001b[0m\u001b[0;32m      8\u001b[0m \u001b[1;33m\u001b[0m\u001b[0m\n\u001b[0;32m      9\u001b[0m \u001b[0mgraph\u001b[0m \u001b[1;33m=\u001b[0m \u001b[0mpydotplus\u001b[0m\u001b[1;33m.\u001b[0m\u001b[0mgraph_from_dot_data\u001b[0m\u001b[1;33m(\u001b[0m\u001b[0mdot_data2\u001b[0m\u001b[1;33m.\u001b[0m\u001b[0mgetvalue\u001b[0m\u001b[1;33m(\u001b[0m\u001b[1;33m)\u001b[0m\u001b[1;33m)\u001b[0m\u001b[1;33m\u001b[0m\u001b[0m\n",
      "\u001b[1;31mNameError\u001b[0m: name 'dot_data2' is not defined"
     ]
    }
   ],
   "source": [
    "#Decision Tree Graph.\n",
    "from sklearn.tree import export_graphviz\n",
    "from IPython.display import Image\n",
    "import pydotplus\n",
    "\n",
    "dot_data = io.StringIO()\n",
    "tree.export_graphviz(clf, out_file=dot_data)\n",
    "\n",
    "graph = pydotplus.graph_from_dot_data(dot_data2.getvalue())\n",
    "Image(graph.create_png())"
   ]
  },
  {
   "cell_type": "code",
   "execution_count": null,
   "metadata": {},
   "outputs": [],
   "source": []
  }
 ],
 "metadata": {
  "kernelspec": {
   "display_name": "Python 2",
   "language": "python",
   "name": "python2"
  },
  "language_info": {
   "codemirror_mode": {
    "name": "ipython",
    "version": 2
   },
   "file_extension": ".py",
   "mimetype": "text/x-python",
   "name": "python",
   "nbconvert_exporter": "python",
   "pygments_lexer": "ipython2",
   "version": "2.7.15"
  },
  "varInspector": {
   "cols": {
    "lenName": 16,
    "lenType": 16,
    "lenVar": 40
   },
   "kernels_config": {
    "python": {
     "delete_cmd_postfix": "",
     "delete_cmd_prefix": "del ",
     "library": "var_list.py",
     "varRefreshCmd": "print(var_dic_list())"
    },
    "r": {
     "delete_cmd_postfix": ") ",
     "delete_cmd_prefix": "rm(",
     "library": "var_list.r",
     "varRefreshCmd": "cat(var_dic_list()) "
    }
   },
   "types_to_exclude": [
    "module",
    "function",
    "builtin_function_or_method",
    "instance",
    "_Feature"
   ],
   "window_display": false
  }
 },
 "nbformat": 4,
 "nbformat_minor": 1
}
